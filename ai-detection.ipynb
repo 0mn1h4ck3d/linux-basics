{
  "nbformat": 4,
  "nbformat_minor": 0,
  "metadata": {
    "colab": {
      "provenance": [],
      "gpuType": "T4",
      "authorship_tag": "ABX9TyNXuytvAQz4vw9zeB4+eta9",
      "include_colab_link": true
    },
    "kernelspec": {
      "name": "python3",
      "display_name": "Python 3"
    },
    "language_info": {
      "name": "python"
    },
    "accelerator": "GPU"
  },
  "cells": [
    {
      "cell_type": "markdown",
      "metadata": {
        "id": "view-in-github",
        "colab_type": "text"
      },
      "source": [
        "<a href=\"https://colab.research.google.com/github/0mn1h4ck3d/linux-basics/blob/main/ai-detection.ipynb\" target=\"_parent\"><img src=\"https://colab.research.google.com/assets/colab-badge.svg\" alt=\"Open In Colab\"/></a>"
      ]
    },
    {
      "cell_type": "markdown",
      "source": [
        "## Project Title: AI vs. Human Text Classifier\n",
        "\n",
        "### **Overview**\n",
        "\n",
        "This project develops a machine learning model capable of distinguishing between AI-generated and human-written text. With the rapid advancement in AI language models, distinguishing between text written by humans and AI has become increasingly challenging. This classifier aims to address this challenge by accurately predicting the origin of a given piece of text, thereby contributing to fields such as content verification, digital forensics, and the study of AI-generated disinformation.\n",
        "\n",
        "### **Objectives**\n",
        "\n",
        "- To implement a binary classification model that identifies whether a given text is AI-generated or human-written.\n",
        "\n",
        "- To explore and compare different machine learning and deep learning techniques for natural language processing (NLP) tasks.\n",
        "\n",
        "- To evaluate the model's performance using standard metrics such as accuracy, precision, recall, and F1 score.\n",
        "\n",
        "### **Data**\n",
        "\n",
        "The dataset consists of numerous text samples labeled as '0' for human-written and '1' for AI-generated. These samples encompass a wide range of topics and styles to ensure the model's robustness and generalizability. Data preprocessing steps, including tokenization, sequence padding, and vectorization, were meticulously applied to prepare the data for training.\n",
        "\n",
        "### **Methodology**\n",
        "\n",
        "- **Data Preprocessing**: Utilized TensorFlow's Tokenizer and pad_sequences to convert text data into a numerical format that can be fed into neural networks.\n",
        "\n",
        "- **Model Architecture**: Developed a Sequential model using TensorFlow Keras, incorporating an Embedding layer followed by GlobalAveragePooling1D and Dense layers, optimized for binary classification tasks.\n",
        "\n",
        "- **Training and Validation**: Employed a split of training and validation data to fine-tune the model, using binary cross-entropy as the loss function and accuracy as the performance metric.\n",
        "\n",
        "- **Evaluation**: Assessed the model's performance on a held-out test set and utilized various metrics to ensure reliability and effectiveness in classifying text origins.\n",
        "\n",
        "### **Results**\n",
        "\n",
        "The model demonstrated promising results in distinguishing between AI-generated and human-written texts, with high accuracy and other performance metrics indicating its potential utility in real-world applications. Further tuning and experimentation with different model architectures, such as Convolutional Neural Networks (CNNs) and Recurrent Neural Networks (RNNs), are planned to enhance its predictive capabilities. The model, overall has nearly 100% accuracy and 0.00 loss."
      ],
      "metadata": {
        "id": "LLCiAwotYcIx"
      }
    },
    {
      "cell_type": "markdown",
      "source": [
        "# Visualizing & preprocessing data"
      ],
      "metadata": {
        "id": "pR3tGWgFZ2PL"
      }
    },
    {
      "cell_type": "code",
      "source": [
        "# Mounting Google Drive\n",
        "from google.colab import drive\n",
        "drive.mount('/content/drive')"
      ],
      "metadata": {
        "colab": {
          "base_uri": "https://localhost:8080/"
        },
        "id": "uzgkGITuS_gb",
        "outputId": "a57c0ba0-c3d8-4252-9cd9-8860e479a5a8"
      },
      "execution_count": 1,
      "outputs": [
        {
          "output_type": "stream",
          "name": "stdout",
          "text": [
            "Mounted at /content/drive\n"
          ]
        }
      ]
    },
    {
      "cell_type": "code",
      "execution_count": 2,
      "metadata": {
        "id": "_nPUKOGiRqGX"
      },
      "outputs": [],
      "source": [
        "# Unzipping file\n",
        "import zipfile\n",
        "zip_ref = zipfile.ZipFile('/content/drive/MyDrive/TensorFlow/AI_Human.csv.zip')\n",
        "zip_ref.extractall()\n",
        "zip_ref.close()"
      ]
    },
    {
      "cell_type": "code",
      "source": [
        "import pandas as pd\n",
        "import matplotlib.pyplot as plt\n",
        "\n",
        "# Load the dataset with specified data types\n",
        "data = pd.read_csv('AI_Human.csv', dtype={'text': str, 'generated': float})\n",
        "\n",
        "# Display the first few rows\n",
        "print(data.head())\n",
        "\n",
        "# Count the occurrences of each category\n",
        "category_counts = data['generated'].value_counts()\n",
        "\n",
        "# Create a bar chart\n",
        "plt.figure(figsize=(8, 6))\n",
        "plt.bar(category_counts.index.astype(str), category_counts.values, color=['blue', 'green'])\n",
        "plt.title('Distribution of Text Categories')\n",
        "plt.xlabel('Category')\n",
        "plt.ylabel('Count')\n",
        "plt.xticks([0, 1], ['Human-written (0.0)', 'AI-generated (1.0)'])\n",
        "plt.show()"
      ],
      "metadata": {
        "colab": {
          "base_uri": "https://localhost:8080/",
          "height": 666
        },
        "id": "i3EHSypGTwkQ",
        "outputId": "a8ed0efa-6e08-4a8a-dedc-9630bdadce40"
      },
      "execution_count": 27,
      "outputs": [
        {
          "output_type": "stream",
          "name": "stdout",
          "text": [
            "                                                text  generated\n",
            "0  Cars. Cars have been around since they became ...        0.0\n",
            "1  Transportation is a large necessity in most co...        0.0\n",
            "2  \"America's love affair with it's vehicles seem...        0.0\n",
            "3  How often do you ride in a car? Do you drive a...        0.0\n",
            "4  Cars are a wonderful thing. They are perhaps o...        0.0\n"
          ]
        },
        {
          "output_type": "display_data",
          "data": {
            "text/plain": [
              "<Figure size 800x600 with 1 Axes>"
            ],
            "image/png": "[encoded data removed]"
          },
          "metadata": {}
        }
      ]
    },
    {
      "cell_type": "code",
      "source": [
        "import random\n",
        "\n",
        "# Removing tags\n",
        "def remove_tags(text):\n",
        "    tags = ['\\n', '\\'']\n",
        "    for tag in tags:\n",
        "        text = text.replace(tag, '')\n",
        "\n",
        "    return text\n",
        "\n",
        "\n",
        "data['text'] = data['text'].apply(remove_tags)\n",
        "data['text'][random.randint(0,100)]"
      ],
      "metadata": {
        "id": "C1SVaFUhUCWe",
        "colab": {
          "base_uri": "https://localhost:8080/",
          "height": 154
        },
        "outputId": "07bcb8eb-4ed0-416b-bb63-1cb472dde426"
      },
      "execution_count": 28,
      "outputs": [
        {
          "output_type": "execute_result",
          "data": {
            "text/plain": [
              "'The Electoral College is a controversial topic in the US. This is the system used to elect the president of the United States, but most people 60% of Americans, according to source 1 believe that we shouldnt use this particular system and that we should go with the popular vote instead, while all others are strong in their stance that we should continue its use. Under the Electoral College, it is entirely possible for a Presidential Candidate to win presidency, even with the majority of voters voting for the opposing candidate. We should discard the Electoral College in favor of the popular vote.The Electoral College is a system that allows a certain amount of electoral votes to each state. Each state is given 2 electoral votes plus another amount of votes which depends on that states population. The amount of votes ranges from 3 to 55 source 3. A candidate must receive 270 out of 538 possible votes. The candidate the electoral votes of a state go to is decided by the majority vote of each individual state. In all states but Maine and Nebraska give a candidate the entirety of their votes if the majority of its citizen votes for them source 1. Some people dont even bother voting due to the fact that their vote will not contribute to their favored candidates election. This happens often when a democratic voter lives in a republican state, and vice versa source 3 Many people stand by the Electoral College as the best course of action. They argue that the certainty of the winner is better, a candidate cant win the election due to regional favor, and this system ensures that there will still be a clear winner even when each candidate receives the same percentage of votes.We began using the Electoral College in order to ensure that states with low populations werent ignored by presidential campaigns. However, it fails to do just that. Presidential candidates focus their attention to swing states, in order to win their electoral votes. Candidates have little to no need to campaign in states that have a majority of one party, because their vote is either a lost cause or all but garunteed. If this system does not do the job that it was originally intended for, then why do we continue to use it?In conclusion, the electoral college is ineffective and outdated. we should no longer use this as a system of defining our president. Even though a winner is often more clear, there is still a possibility of a tie between candidates. People who support the Electoral College also argue that its a good thing due to swing states having more attention payed to them and therefore being more careful in their decision. However, this reasoning is flawed in that it assumes that citizens of a state are more likely to inform theirselves thouroughly simply because their vote holds more value, in a sense. Also, candidates would no longer pay special attention to swing states if the electoral college werent in place so the votes of these citizens wouldnt be held above the rest. Increased value of votes is not a good thing, which this argument also assume. It is the best decision to abolish the Electoral College.'"
            ],
            "application/vnd.google.colaboratory.intrinsic+json": {
              "type": "string"
            }
          },
          "metadata": {},
          "execution_count": 28
        }
      ]
    },
    {
      "cell_type": "code",
      "source": [
        "# Removing punctuation\n",
        "import string\n",
        "\n",
        "string.punctuation\n",
        "\n",
        "def remove_punct(text):\n",
        "    new_text = [x for x in text if x not in string.punctuation]\n",
        "    new_text = ''.join(new_text)\n",
        "    return new_text\n",
        "\n",
        "data['text']=data['text'].apply(remove_punct)\n",
        "data['text'][random.randint(0,100)]"
      ],
      "metadata": {
        "id": "nZx9RgrPjJCJ",
        "colab": {
          "base_uri": "https://localhost:8080/",
          "height": 154
        },
        "outputId": "aea30678-76c2-4f47-d190-a3b821d48731"
      },
      "execution_count": 29,
      "outputs": [
        {
          "output_type": "execute_result",
          "data": {
            "text/plain": [
              "'Dear senator Retain the Electoral College The Electoral College consists of 538 electors and a majority of 270 electors is is required to elect the President Each state has hisher own electors which are chosen by the candidate political party You should keep the Electoral College because you have certainty of outcome and the President is everyones not just yoursThe first reason why you should stay with the Electoral College is because you are certain that the outcome will be in favor of one of the candidates A tie in the nationwide electoral vote may happen but it is very unlikely that it will even though that 538number of electors in the Electoral College is a even numberS3For example in 2012s election Obama received 617 percent of the electoral votes compared to 513 percent of the popular cast for him and rodney because all states award electoral votes on a winnertakeall basis even a slight plurality in a state creates a landslide electoralvote victory in that stateS3 Howeverbecause of the winnertakeall system in each statecandidates dont spend time in staes they know they have no chance of winning they only focus on the closetight races in the swingstatesS2 But the winning candidates share of the Electoral College invariably exceeds his share of the popular voteThe second reason you should keep the Electoral College is because the president is everyones The Electoral College requires a presidential candidate to have transregional appeal No region has enough electoral votes to elect a president by themselves So for examplea solid regional favoritesuch as rodney was in the Southhas no incentive to campaign heavily in those states for he gains no electoral votes by increasing his plurality in states he knows for sure that he will winS3A president with only his regional apppeal is very unlikely to be a successful president The residents of the other regions may feel like there votes dont count or that he really isnt there presidentIn conclusion you should stay with the Electoral College simply because you most likely not going to have a tie and because the president is everyones'"
            ],
            "application/vnd.google.colaboratory.intrinsic+json": {
              "type": "string"
            }
          },
          "metadata": {},
          "execution_count": 29
        }
      ]
    },
    {
      "cell_type": "code",
      "source": [
        "from sklearn.model_selection import train_test_split\n",
        "\n",
        "# Splitting data\n",
        "y=data['generated']\n",
        "X=data['text']\n",
        "\n",
        "X_train, X_test, y_train, y_test = train_test_split(X,y,test_size=0.3,random_state=42)\n",
        "\n",
        "print(len(X_train))\n",
        "print(len(y_train))"
      ],
      "metadata": {
        "colab": {
          "base_uri": "https://localhost:8080/"
        },
        "id": "Er2seV5SjeWi",
        "outputId": "5ccdf276-b160-4431-9538-d3b5d6b7a10e"
      },
      "execution_count": 30,
      "outputs": [
        {
          "output_type": "stream",
          "name": "stdout",
          "text": [
            "341064\n",
            "341064\n"
          ]
        }
      ]
    },
    {
      "cell_type": "markdown",
      "source": [
        "# Building, compiling and training model\n"
      ],
      "metadata": {
        "id": "BXSjAfRbZ7Up"
      }
    },
    {
      "cell_type": "code",
      "source": [
        "from sklearn.pipeline import Pipeline\n",
        "from sklearn.feature_extraction.text import CountVectorizer, TfidfTransformer\n",
        "from sklearn.naive_bayes import MultinomialNB\n",
        "from sklearn.svm import SVC\n",
        "\n",
        "pipeline = Pipeline([\n",
        "    ('count_vectorizer', CountVectorizer()),  # Step 1: CountVectorizer\n",
        "    ('tfidf_transformer', TfidfTransformer()),  # Step 2: TF-IDF Transformer\n",
        "    ('naive_bayes', MultinomialNB())])\n",
        "\n",
        "pipeline.fit(X_train, y_train)\n",
        "\n",
        "y_pred= pipeline.predict(X_test)"
      ],
      "metadata": {
        "id": "xztL_ysPjxSE"
      },
      "execution_count": 31,
      "outputs": []
    },
    {
      "cell_type": "markdown",
      "source": [
        "# Plotting results"
      ],
      "metadata": {
        "id": "zQHO3hG4aE31"
      }
    },
    {
      "cell_type": "code",
      "source": [
        "from sklearn.metrics import classification_report\n",
        "\n",
        "print(classification_report(y_test,y_pred))"
      ],
      "metadata": {
        "colab": {
          "base_uri": "https://localhost:8080/"
        },
        "id": "c6vZ44jXbSC2",
        "outputId": "0ac77cf6-4a89-43d0-fc21-daf267ec6869"
      },
      "execution_count": 32,
      "outputs": [
        {
          "output_type": "stream",
          "name": "stdout",
          "text": [
            "              precision    recall  f1-score   support\n",
            "\n",
            "         0.0       0.93      0.99      0.96     91597\n",
            "         1.0       0.99      0.87      0.93     54574\n",
            "\n",
            "    accuracy                           0.95    146171\n",
            "   macro avg       0.96      0.93      0.94    146171\n",
            "weighted avg       0.95      0.95      0.95    146171\n",
            "\n"
          ]
        }
      ]
    },
    {
      "cell_type": "code",
      "source": [
        "import matplotlib.pyplot as plt\n",
        "from sklearn.metrics import confusion_matrix, ConfusionMatrixDisplay\n",
        "\n",
        "# Calculate confusion matrix\n",
        "cm = confusion_matrix(y_test, y_pred)\n",
        "\n",
        "# Plot confusion matrix\n",
        "disp = ConfusionMatrixDisplay(confusion_matrix=cm)\n",
        "disp.plot()\n",
        "plt.show()"
      ],
      "metadata": {
        "colab": {
          "base_uri": "https://localhost:8080/",
          "height": 449
        },
        "id": "LnxcXeBsA79m",
        "outputId": "4e2564e9-c731-41f3-aa21-a61670e19dde"
      },
      "execution_count": 33,
      "outputs": [
        {
          "output_type": "display_data",
          "data": {
            "text/plain": [
              "<Figure size 640x480 with 2 Axes>"
            ],
            "image/png": "[encoded data removed]"
          },
          "metadata": {}
        }
      ]
    },
    {
      "cell_type": "markdown",
      "source": [
        "# Predicting on real, custom data"
      ],
      "metadata": {
        "id": "J0L_Pm-qBe-X"
      }
    },
    {
      "cell_type": "code",
      "source": [
        "# Example custom texts\n",
        "custom_texts = [\"I love dogs.\",\n",
        "                \"Certainly! Incorporating icebreaker activities that cater to both in-person and remote team members is essential for fostering a sense of inclusiveness and camaraderie.\"]\n",
        "\n",
        "# Make predictions\n",
        "custom_preds = pipeline.predict(custom_texts)\n",
        "\n",
        "# Output predictions\n",
        "for text, pred in zip(custom_texts, custom_preds):\n",
        "    print(f\"Text: {text}\\nPredicted: {'AI-generated (1.0)' if pred == 1 else 'Human-written (0.0)'}\\n\")\n",
        "\n",
        "# Get prediction probabilities\n",
        "custom_probs = pipeline.predict_proba(custom_texts)\n",
        "\n",
        "# Output prediction probabilities\n",
        "for text, probs in zip(custom_texts, custom_probs):\n",
        "    print(f\"Text: {text}\\nProbabilities: {probs}\\n\")"
      ],
      "metadata": {
        "colab": {
          "base_uri": "https://localhost:8080/"
        },
        "id": "OheKJhbBBhLR",
        "outputId": "ac8fd89b-24d8-4de6-9a0f-5c07eee7db7f"
      },
      "execution_count": 34,
      "outputs": [
        {
          "output_type": "stream",
          "name": "stdout",
          "text": [
            "Text: I love dogs.\n",
            "Predicted: Human-written (0.0)\n",
            "\n",
            "Text: Certainly! Incorporating icebreaker activities that cater to both in-person and remote team members is essential for fostering a sense of inclusiveness and camaraderie.\n",
            "Predicted: AI-generated (1.0)\n",
            "\n",
            "Text: I love dogs.\n",
            "Probabilities: [0.71093076 0.28906924]\n",
            "\n",
            "Text: Certainly! Incorporating icebreaker activities that cater to both in-person and remote team members is essential for fostering a sense of inclusiveness and camaraderie.\n",
            "Probabilities: [0.00567072 0.99432928]\n",
            "\n"
          ]
        }
      ]
    },
    {
      "cell_type": "markdown",
      "source": [
        "# Saving model"
      ],
      "metadata": {
        "id": "CLnCW-CslBzX"
      }
    },
    {
      "cell_type": "code",
      "source": [
        "from joblib import dump\n",
        "\n",
        "# Save the pipeline model\n",
        "dump(pipeline, 'ai-human-detection.joblib')"
      ],
      "metadata": {
        "colab": {
          "base_uri": "https://localhost:8080/"
        },
        "id": "XsMxwplMlHS2",
        "outputId": "3c545cac-662b-4e4d-af1c-fe6b94f0bbf3"
      },
      "execution_count": 13,
      "outputs": [
        {
          "output_type": "execute_result",
          "data": {
            "text/plain": [
              "['ai-human-detection.joblib']"
            ]
          },
          "metadata": {},
          "execution_count": 13
        }
      ]
    }
  ]
}